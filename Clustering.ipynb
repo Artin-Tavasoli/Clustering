{
  "nbformat": 4,
  "nbformat_minor": 0,
  "metadata": {
    "colab": {
      "provenance": [],
      "authorship_tag": "ABX9TyNoiTgbu5PeNvpMfeICv/le",
      "include_colab_link": true
    },
    "kernelspec": {
      "name": "python3",
      "display_name": "Python 3"
    },
    "language_info": {
      "name": "python"
    }
  },
  "cells": [
    {
      "cell_type": "markdown",
      "metadata": {
        "id": "view-in-github",
        "colab_type": "text"
      },
      "source": [
        "<a href=\"https://colab.research.google.com/github/Artin-Tavasoli/Clustering/blob/main/Clustering.ipynb\" target=\"_parent\"><img src=\"https://colab.research.google.com/assets/colab-badge.svg\" alt=\"Open In Colab\"/></a>"
      ]
    },
    {
      "cell_type": "markdown",
      "metadata": {
        "id": "02a1eab5"
      },
      "source": [
        "<p align=\"center\">\n",
        "   <font size=\"+3\">🧠 Clustering</font>\n",
        "</p>\n",
        "\n",
        "<p align=\"center\">\n",
        "  <font size=\"+2\">Artin Tavasoli 👋🏻</font>\n",
        "</p>\n",
        "<p align=\"center\">\n",
        "  <font size=\"+2\">📘 Student ID: 810102543</font>\n",
        "</p>\n",
        "\n",
        "* * *\n",
        "\n",
        "  <font size=\"+2\">Overview</font>\n",
        "\n",
        "  Clustering is an unsupervised machine learning technique used to group similar data points together based on their inherent characteristics. We will explore various clustering methods, including Hierarchical Clustering, DBSCAN, and K-Means, applied to a music lyrics dataset.\n"
      ]
    }
  ]
}